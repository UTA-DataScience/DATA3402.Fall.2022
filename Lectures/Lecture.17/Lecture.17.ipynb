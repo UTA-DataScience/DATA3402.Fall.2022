{
 "cells": [
  {
   "cell_type": "markdown",
   "metadata": {},
   "source": [
    "# Lecture 17: Deep Learning with Keras\n",
    "\n",
    "This lecture is meant to get you started in using Keras to design Deep Neural Networks. We'll use the same data we have used in lecture and labs until now.\n",
    "\n",
    "Let's start with reading the data, like before:"
   ]
  },
  {
   "cell_type": "code",
   "execution_count": null,
   "metadata": {},
   "outputs": [],
   "source": [
    "import pandas as pd\n",
    "import numpy as np\n",
    "import matplotlib.pyplot as plt\n",
    "%matplotlib inline\n",
    "\n",
    "VarNames=[\"signal\", \"l_1_pT\", \"l_1_eta\",\"l_1_phi\", \"l_2_pT\", \"l_2_eta\", \"l_2_phi\", \"MET\", \"MET_phi\", \"MET_rel\", \"axial_MET\", \"M_R\", \"M_TR_2\", \"R\", \"MT2\", \"S_R\", \"M_Delta_R\", \"dPhi_r_b\", \"cos_theta_r1\"]\n",
    "RawNames=[\"l_1_pT\", \"l_1_eta\",\"l_1_phi\", \"l_2_pT\", \"l_2_eta\", \"l_2_phi\", \"MET\", \"MET_phi\"]\n",
    "FeatureNames=list(set(VarNames[1:]).difference(RawNames))\n",
    "\n",
    "filename=\"../../Labs/Lab.5/SUSY.csv\"\n",
    "df = pd.read_csv(filename, dtype='float64', names=VarNames)\n",
    "\n",
    "df_sig=df[df.signal==1]\n",
    "df_bkg=df[df.signal==0]"
   ]
  },
  {
   "cell_type": "markdown",
   "metadata": {},
   "source": [
    "Now lets define training and test samples. Note that DNNs take very long to train, so for testing purposes we will use only about 10% of the 5 million events in the training/validation sample. Once you get everything working, make the final version of your plots with the full sample. \n",
    "\n",
    "Also note that Keras had trouble with the Pandas tensors, so after doing all of the nice manipulation that Pandas enables, we convert the Tensor to a regular numpy tensor."
   ]
  },
  {
   "cell_type": "code",
   "execution_count": 2,
   "metadata": {},
   "outputs": [],
   "source": [
    "N_Max=550000\n",
    "N_Train=500000\n",
    "\n",
    "Train_Sample=df[:N_Train]\n",
    "Test_Sample=df[N_Train:N_Max]\n",
    "\n",
    "X_Train=np.array(Train_Sample[VarNames[1:]])\n",
    "y_Train=np.array(Train_Sample[\"signal\"])\n",
    "\n",
    "X_Test=np.array(Test_Sample[VarNames[1:]])\n",
    "y_Test=np.array(Test_Sample[\"signal\"])\n"
   ]
  },
  {
   "cell_type": "code",
   "execution_count": 3,
   "metadata": {},
   "outputs": [
    {
     "data": {
      "text/plain": [
       "(500000, 18)"
      ]
     },
     "execution_count": 3,
     "metadata": {},
     "output_type": "execute_result"
    }
   ],
   "source": [
    "X_Train.shape"
   ]
  },
  {
   "cell_type": "markdown",
   "metadata": {},
   "source": [
    "Now we will build a simple model, as described in class. Note that this is very small model, so things run fast. You should attempt more ambitious models.\n",
    "\n",
    "In most Deep Learning frameworks, models are build layer by layer. In Keras, you can make simple models using  `Sequential`. This method is now mostly discouraged, but it still works and is illustrative:"
   ]
  },
  {
   "cell_type": "code",
   "execution_count": 4,
   "metadata": {},
   "outputs": [],
   "source": [
    "from keras.models import Sequential\n",
    "from keras.layers import Dense\n",
    "\n",
    "model = Sequential()\n",
    "model.add(Dense(12, input_dim=X_Train.shape[1], activation='relu'))\n",
    "model.add(Dense(8, activation='relu'))\n",
    "model.add(Dense(8, activation='relu'))\n",
    "model.add(Dense(1, activation='sigmoid'))"
   ]
  },
  {
   "cell_type": "code",
   "execution_count": 5,
   "metadata": {},
   "outputs": [
    {
     "data": {
      "text/plain": [
       "18"
      ]
     },
     "execution_count": 5,
     "metadata": {},
     "output_type": "execute_result"
    }
   ],
   "source": [
    "X_Train.shape[1]"
   ]
  },
  {
   "cell_type": "markdown",
   "metadata": {},
   "source": [
    "Lets quickly compute the number of parameters we expect in our model:"
   ]
  },
  {
   "cell_type": "code",
   "execution_count": 6,
   "metadata": {},
   "outputs": [
    {
     "data": {
      "text/plain": [
       "228"
      ]
     },
     "execution_count": 6,
     "metadata": {},
     "output_type": "execute_result"
    }
   ],
   "source": [
    "18*12 + 12"
   ]
  },
  {
   "cell_type": "code",
   "execution_count": 7,
   "metadata": {},
   "outputs": [
    {
     "data": {
      "text/plain": [
       "104"
      ]
     },
     "execution_count": 7,
     "metadata": {},
     "output_type": "execute_result"
    }
   ],
   "source": [
    "12 * 8 + 8"
   ]
  },
  {
   "cell_type": "code",
   "execution_count": 8,
   "metadata": {},
   "outputs": [
    {
     "data": {
      "text/plain": [
       "72"
      ]
     },
     "execution_count": 8,
     "metadata": {},
     "output_type": "execute_result"
    }
   ],
   "source": [
    "8 * 8 + 8"
   ]
  },
  {
   "cell_type": "markdown",
   "metadata": {},
   "source": [
    "You can have Keras print out the model for you to investigate:"
   ]
  },
  {
   "cell_type": "code",
   "execution_count": 9,
   "metadata": {},
   "outputs": [
    {
     "name": "stdout",
     "output_type": "stream",
     "text": [
      "Model: \"sequential\"\n",
      "_________________________________________________________________\n",
      " Layer (type)                Output Shape              Param #   \n",
      "=================================================================\n",
      " dense (Dense)               (None, 12)                228       \n",
      "                                                                 \n",
      " dense_1 (Dense)             (None, 8)                 104       \n",
      "                                                                 \n",
      " dense_2 (Dense)             (None, 8)                 72        \n",
      "                                                                 \n",
      " dense_3 (Dense)             (None, 1)                 9         \n",
      "                                                                 \n",
      "=================================================================\n",
      "Total params: 413\n",
      "Trainable params: 413\n",
      "Non-trainable params: 0\n",
      "_________________________________________________________________\n"
     ]
    }
   ],
   "source": [
    "model.summary()"
   ]
  },
  {
   "cell_type": "markdown",
   "metadata": {},
   "source": [
    "The preferred method of creating a model is to use functional API, where the Deep Neural Network is viewed as a composition of functions. With this API, you can create very sophisticated models with multiple inputs and outputs."
   ]
  },
  {
   "cell_type": "code",
   "execution_count": 10,
   "metadata": {},
   "outputs": [
    {
     "name": "stdout",
     "output_type": "stream",
     "text": [
      "Model: \"model\"\n",
      "_________________________________________________________________\n",
      " Layer (type)                Output Shape              Param #   \n",
      "=================================================================\n",
      " input_1 (InputLayer)        [(None, 18)]              0         \n",
      "                                                                 \n",
      " dense_4 (Dense)             (None, 12)                228       \n",
      "                                                                 \n",
      " dense_5 (Dense)             (None, 8)                 104       \n",
      "                                                                 \n",
      " dense_6 (Dense)             (None, 8)                 72        \n",
      "                                                                 \n",
      " dense_7 (Dense)             (None, 1)                 9         \n",
      "                                                                 \n",
      "=================================================================\n",
      "Total params: 413\n",
      "Trainable params: 413\n",
      "Non-trainable params: 0\n",
      "_________________________________________________________________\n"
     ]
    }
   ],
   "source": [
    "from keras.models import Model\n",
    "from keras.layers import Dense, Input\n",
    "\n",
    "in_x = Input(shape = X_Train.shape[1:])\n",
    "x = Dense(12, input_dim=X_Train.shape[1], activation='relu')(in_x)\n",
    "x = Dense(8, activation='relu')(x)\n",
    "x = Dense(8, activation='relu')(x)\n",
    "out_x = Dense(1, activation='sigmoid')(x)\n",
    "\n",
    "model = Model(in_x,out_x)\n",
    "\n",
    "model.summary()"
   ]
  },
  {
   "cell_type": "markdown",
   "metadata": {},
   "source": [
    "Few things to notice:\n",
    "* Activations can be specified here, but can be added as their own layers.\n",
    "* Note that in most cases where you are using existing Keras components with their default configuration, you can just specify the object you want by name. If you want to change a default, you'll have to create an instance of the object.\n",
    "\n"
   ]
  },
  {
   "cell_type": "code",
   "execution_count": 11,
   "metadata": {},
   "outputs": [
    {
     "name": "stdout",
     "output_type": "stream",
     "text": [
      "Model: \"model_1\"\n",
      "_________________________________________________________________\n",
      " Layer (type)                Output Shape              Param #   \n",
      "=================================================================\n",
      " input_2 (InputLayer)        [(None, 18)]              0         \n",
      "                                                                 \n",
      " dense_8 (Dense)             (None, 12)                228       \n",
      "                                                                 \n",
      " dense_9 (Dense)             (None, 8)                 104       \n",
      "                                                                 \n",
      " tf.nn.relu (TFOpLambda)     (None, 8)                 0         \n",
      "                                                                 \n",
      " dense_10 (Dense)            (None, 1)                 9         \n",
      "                                                                 \n",
      "=================================================================\n",
      "Total params: 341\n",
      "Trainable params: 341\n",
      "Non-trainable params: 0\n",
      "_________________________________________________________________\n"
     ]
    }
   ],
   "source": [
    "from keras.activations import relu\n",
    "\n",
    "in_x = Input(shape = X_Train.shape[1:])\n",
    "x = Dense(12, input_dim=X_Train.shape[1], activation='relu')(in_x)\n",
    "x = Dense(8)(x)\n",
    "x = relu(x)\n",
    "out_x = Dense(1, activation='sigmoid')(x)\n",
    "\n",
    "model = Model(in_x,out_x)\n",
    "\n",
    "model.summary()"
   ]
  },
  {
   "cell_type": "markdown",
   "metadata": {},
   "source": [
    "Once the DNN has been specified, we will have to further forumlate our problem by specifing the loss (the parameter which will be optimized during training), and the optimizer (the optimization algorithm). In Keras, these are specified at \"compile\" time:"
   ]
  },
  {
   "cell_type": "code",
   "execution_count": 13,
   "metadata": {},
   "outputs": [],
   "source": [
    "model.compile(loss='binary_crossentropy', optimizer='adam', metrics=['accuracy'])"
   ]
  },
  {
   "cell_type": "markdown",
   "metadata": {},
   "source": [
    "Note that we also specified a metric which Keras will compute for us during training so we can keep track of the progress of training. "
   ]
  },
  {
   "cell_type": "markdown",
   "metadata": {},
   "source": [
    "Few things to define and be aware of before we train:\n",
    "\n",
    "* An epoch is defined as one training pass using the whole training data.\n",
    "* Epochs are broken into smaller steps. At each step a subset of the training data, referred to as a batch, is used to compute the gradients perform an optimization step. Taking many steps is an example of stochastic gradient decent, which is an important ingredient to getting Deep Learning working.\n",
    "* In order to monitor the training process, we typically compare the performance on the training sample and another sample (validation sample in Keras).\n",
    "\n",
    "The easiest way to train is to use the `fit` method:"
   ]
  },
  {
   "cell_type": "code",
   "execution_count": 14,
   "metadata": {},
   "outputs": [
    {
     "name": "stdout",
     "output_type": "stream",
     "text": [
      "Epoch 1/10\n"
     ]
    },
    {
     "name": "stderr",
     "output_type": "stream",
     "text": [
      "2022-11-09 13:56:25.957556: W tensorflow/core/platform/profile_utils/cpu_utils.cc:128] Failed to get CPU frequency: 0 Hz\n"
     ]
    },
    {
     "name": "stdout",
     "output_type": "stream",
     "text": [
      "245/245 [==============================] - 1s 987us/step - loss: 0.6407 - accuracy: 0.6491 - val_loss: 0.5002 - val_accuracy: 0.7715\n",
      "Epoch 2/10\n",
      "245/245 [==============================] - 0s 830us/step - loss: 0.4628 - accuracy: 0.7876 - val_loss: 0.4568 - val_accuracy: 0.7893\n",
      "Epoch 3/10\n",
      "245/245 [==============================] - 0s 647us/step - loss: 0.4498 - accuracy: 0.7936 - val_loss: 0.4507 - val_accuracy: 0.7916\n",
      "Epoch 4/10\n",
      "245/245 [==============================] - 0s 659us/step - loss: 0.4459 - accuracy: 0.7952 - val_loss: 0.4475 - val_accuracy: 0.7927\n",
      "Epoch 5/10\n",
      "245/245 [==============================] - 0s 632us/step - loss: 0.4432 - accuracy: 0.7965 - val_loss: 0.4456 - val_accuracy: 0.7941\n",
      "Epoch 6/10\n",
      "245/245 [==============================] - 0s 639us/step - loss: 0.4413 - accuracy: 0.7971 - val_loss: 0.4437 - val_accuracy: 0.7950\n",
      "Epoch 7/10\n",
      "245/245 [==============================] - 0s 646us/step - loss: 0.4396 - accuracy: 0.7980 - val_loss: 0.4423 - val_accuracy: 0.7957\n",
      "Epoch 8/10\n",
      "245/245 [==============================] - 0s 675us/step - loss: 0.4385 - accuracy: 0.7983 - val_loss: 0.4412 - val_accuracy: 0.7955\n",
      "Epoch 9/10\n",
      "245/245 [==============================] - 0s 644us/step - loss: 0.4378 - accuracy: 0.7984 - val_loss: 0.4404 - val_accuracy: 0.7959\n",
      "Epoch 10/10\n",
      "245/245 [==============================] - 0s 636us/step - loss: 0.4370 - accuracy: 0.7989 - val_loss: 0.4402 - val_accuracy: 0.7956\n"
     ]
    }
   ],
   "source": [
    "history=model.fit(X_Train, y_Train, validation_data=(X_Test,y_Test), epochs=10, batch_size=2048)"
   ]
  },
  {
   "cell_type": "markdown",
   "metadata": {},
   "source": [
    "Note that `fit` takes care of\n",
    "\n",
    "* Running multiple epochs\n",
    "* Dividing the data into batches\n",
    "* Computing gradient on each batch\n",
    "* Using optimizer to take step\n",
    "* Evaluating performance on training and testing data\n",
    "* Keep track of everything\n",
    "\n",
    "But in some instances you may wish to consume data from a difference source (rather than a tensor in memory) or do something different (e.g. training an Adversarial network), which will require you to perform some of these steps yourself. Keras provides easy methods to enable such functionality.\n",
    "\n",
    "The model history keeps track of the loss and accuracy for each epoch. Note that the training above was setup to run on the validation sample at the end of each epoch:"
   ]
  },
  {
   "cell_type": "code",
   "execution_count": 16,
   "metadata": {},
   "outputs": [
    {
     "name": "stdout",
     "output_type": "stream",
     "text": [
      "{'loss': [0.640733003616333, 0.4628039598464966, 0.44983524084091187, 0.4458531439304352, 0.4432400166988373, 0.4413318932056427, 0.43959975242614746, 0.43851393461227417, 0.43784376978874207, 0.4370463490486145], 'accuracy': [0.6491379737854004, 0.7875919938087463, 0.793612003326416, 0.7951980233192444, 0.7964580059051514, 0.7970539927482605, 0.7979559898376465, 0.7983099818229675, 0.7984359860420227, 0.7989420294761658], 'val_loss': [0.5001813173294067, 0.4568244516849518, 0.45072317123413086, 0.44747042655944824, 0.44560009241104126, 0.44369766116142273, 0.4423304796218872, 0.44121643900871277, 0.4403839409351349, 0.44016504287719727], 'val_accuracy': [0.7714800238609314, 0.7893400192260742, 0.7915999889373779, 0.792680025100708, 0.7940800189971924, 0.7950000166893005, 0.7957199811935425, 0.7955399751663208, 0.7958599925041199, 0.7955600023269653]}\n"
     ]
    }
   ],
   "source": [
    "print (history.history)"
   ]
  },
  {
   "cell_type": "code",
   "execution_count": 17,
   "metadata": {},
   "outputs": [
    {
     "data": {
      "text/plain": [
       "<matplotlib.legend.Legend at 0x12605e310>"
      ]
     },
     "execution_count": 17,
     "metadata": {},
     "output_type": "execute_result"
    },
    {
     "data": {
      "image/png": "[encoded data removed]",
      "text/plain": [
       "<Figure size 640x480 with 1 Axes>"
      ]
     },
     "metadata": {},
     "output_type": "display_data"
    }
   ],
   "source": [
    "plt.plot(range(len(history.history[\"loss\"])),history.history[\"loss\"],label=\"Training Loss\")\n",
    "plt.plot(range(len(history.history[\"val_loss\"])),history.history[\"val_loss\"],label=\"Validation Loss\")\n",
    "plt.legend()"
   ]
  },
  {
   "cell_type": "code",
   "execution_count": 18,
   "metadata": {},
   "outputs": [
    {
     "data": {
      "text/plain": [
       "<matplotlib.legend.Legend at 0x12613dca0>"
      ]
     },
     "execution_count": 18,
     "metadata": {},
     "output_type": "execute_result"
    },
    {
     "data": {
      "image/png": "[encoded data removed]",
      "text/plain": [
       "<Figure size 640x480 with 1 Axes>"
      ]
     },
     "metadata": {},
     "output_type": "display_data"
    }
   ],
   "source": [
    "plt.plot(range(len(history.history[\"accuracy\"])),history.history[\"accuracy\"],label=\"Training accuracy\")\n",
    "plt.plot(range(len(history.history[\"val_accuracy\"])),history.history[\"val_accuracy\"],label=\"Validation accuracy\")\n",
    "plt.legend()"
   ]
  },
  {
   "cell_type": "markdown",
   "metadata": {},
   "source": [
    "We can evaluate how the trained model does on the test sample as follows:"
   ]
  },
  {
   "cell_type": "code",
   "execution_count": 19,
   "metadata": {},
   "outputs": [
    {
     "name": "stdout",
     "output_type": "stream",
     "text": [
      "1563/1563 [==============================] - 0s 285us/step - loss: 0.4402 - accuracy: 0.7956\n",
      "[0.4401650130748749, 0.7955600023269653]\n"
     ]
    }
   ],
   "source": [
    "scores = model.evaluate(X_Test, y_Test)\n",
    "print(scores)"
   ]
  },
  {
   "cell_type": "markdown",
   "metadata": {},
   "source": [
    "While evaluate is useful for assessing performance, once you have trained a model and determined you with to use it, you will want to apply to data without ground truth or the known desired output (in this case signal or background). `predict` enables this functionality:"
   ]
  },
  {
   "cell_type": "code",
   "execution_count": 21,
   "metadata": {},
   "outputs": [
    {
     "name": "stdout",
     "output_type": "stream",
     "text": [
      "1563/1563 [==============================] - 0s 241us/step\n"
     ]
    },
    {
     "data": {
      "text/plain": [
       "array([[0.8019432 ],\n",
       "       [0.11108116],\n",
       "       [0.10689455],\n",
       "       ...,\n",
       "       [0.48173684],\n",
       "       [0.30315074],\n",
       "       [0.21978281]], dtype=float32)"
      ]
     },
     "execution_count": 21,
     "metadata": {},
     "output_type": "execute_result"
    }
   ],
   "source": [
    "model.predict(X_Test)"
   ]
  },
  {
   "cell_type": "markdown",
   "metadata": {},
   "source": [
    "Note the output here is a number between 0 and 1. Determining what threshold to use to select signal is analgous to what we did for other ML methods."
   ]
  },
  {
   "cell_type": "markdown",
   "metadata": {},
   "source": [
    "And we can make ROC curves as before:"
   ]
  },
  {
   "cell_type": "code",
   "execution_count": 22,
   "metadata": {},
   "outputs": [
    {
     "name": "stdout",
     "output_type": "stream",
     "text": [
      "1563/1563 [==============================] - 0s 242us/step\n"
     ]
    },
    {
     "data": {
      "image/png": "[encoded data removed]",
      "text/plain": [
       "<Figure size 640x480 with 1 Axes>"
      ]
     },
     "metadata": {},
     "output_type": "display_data"
    }
   ],
   "source": [
    "from sklearn.metrics import roc_curve, auc\n",
    "fpr, tpr, _ = roc_curve(y_Test, model.predict(X_Test))\n",
    "                        \n",
    "roc_auc = auc(fpr, tpr)\n",
    "\n",
    "plt.plot(fpr,tpr,color='darkorange',label='ROC curve (area = %0.2f)' % roc_auc)\n",
    "plt.legend(loc=\"lower right\")\n",
    "plt.xlabel('False Positive Rate')\n",
    "plt.ylabel('True Positive Rate')\n",
    "\n",
    "plt.show()"
   ]
  },
  {
   "cell_type": "code",
   "execution_count": null,
   "metadata": {},
   "outputs": [],
   "source": []
  }
 ],
 "metadata": {
  "kernelspec": {
   "display_name": "Python 3 (ipykernel)",
   "language": "python",
   "name": "python3"
  },
  "language_info": {
   "codemirror_mode": {
    "name": "ipython",
    "version": 3
   },
   "file_extension": ".py",
   "mimetype": "text/x-python",
   "name": "python",
   "nbconvert_exporter": "python",
   "pygments_lexer": "ipython3",
   "version": "3.8.9"
  }
 },
 "nbformat": 4,
 "nbformat_minor": 2
}
